{
 "cells": [
  {
   "attachments": {},
   "cell_type": "markdown",
   "id": "f2f70e1d",
   "metadata": {},
   "source": [
    "## Contenido \n",
    "\n",
    "### 1. ¿Qué es la estadística?\n",
    "### 2. Áreas de la estadística\n",
    "### 3. Tipos de datos y tipos de variables\n",
    "### 4. Gráficos\n",
    "### 5. Medidas de tendencia central\n",
    "### 6. Medidas de dispersión"
   ]
  }
 ],
 "metadata": {
  "kernelspec": {
   "display_name": "Python 3 (ipykernel)",
   "language": "python",
   "name": "python3"
  },
  "language_info": {
   "codemirror_mode": {
    "name": "ipython",
    "version": 3
   },
   "file_extension": ".py",
   "mimetype": "text/x-python",
   "name": "python",
   "nbconvert_exporter": "python",
   "pygments_lexer": "ipython3",
   "version": "3.10.11"
  }
 },
 "nbformat": 4,
 "nbformat_minor": 5
}
