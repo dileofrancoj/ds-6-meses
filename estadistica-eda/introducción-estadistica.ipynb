{
 "cells": [
  {
   "cell_type": "markdown",
   "id": "f2f70e1d",
   "metadata": {},
   "source": [
    "## Contenido \n",
    "\n",
    "### 1. ¿Qué es la estadística?\n",
    "\n",
    "Rama de las matemáticas que permite recopilar, organizar y analizar datos.\n",
    "\n",
    "### 2. Áreas de la estadística\n",
    "- Descriptiva: Se ocupa de la descripcion (cuak) y resumen de datos originados a partir de fenomenos de estudio\n",
    "\n",
    "- Inferencial: Se dedica a la generación de modelos y predicciones asociados a fenomenos en cuestion\n",
    "\n",
    "Población: Totalidad de un conjunto\n",
    "\n",
    "Muestra: Subconjunto (mas chico)\n",
    "\n",
    "Población es de 900 personas\n",
    "Objetivo: Conocer la altura promedio de todos los usuarios de discord (data aventureros)\n",
    "\n",
    "Muestra de 27 personas\n",
    "\n",
    "$\\bar{x}$: La media de alturas de los participantes del chat (1.7)\n",
    "\n",
    "$\\hat{x}$ : La media de alturas de todos los participantes de data aventureros Estoy un 90% seguro que la altura promedio de todos los participantes es de 1.8\n",
    "\n",
    "### 3. Tipos de datos y tipos de variables\n",
    "\n",
    "* Cuantitativo: Representa cantidades (Discretas y continuas)\n",
    "* Cualitativo / Categórico : Atributos / catgorías que pueden usarse para describir un objeto (nacionalidad, tipo de fruto, sexo)  \n",
    "\n",
    "#### Tipos de variables\n",
    "\n",
    "- **Cualitativas nominales**: Mutuamente excluyentes (grupo sanguineo, sexo, colores) OneHotEncoding, dummies\n",
    "- **Cualitativas ordinales** : Dependen del orden (estado de paciente GRAVE, MUY GRAVE), indicador de velocidad (lento, rapido, muy rapido) -> LabelEncoder\n",
    "- **Cuantitativas discretas**: Puede tomar solo algunos valores de un determinado intervalo. Cantidad de pacientes que entraron a un hospital, ventas por año de una empresa\n",
    "- **Cuantitativas continuas**: Pueden tomar todos los valores de un determinado intervalo de reales. Volumen, dinero, altura, temperatura, velocidad, posicion, el tiempo\n",
    "\n",
    "****\n",
    "\n",
    "> Frecuencia: A la relación que hace corresponder a los valores de una variable, la cantidad de veces qeu estos aparecen en un conjunto se lo denomina frecuencia\n",
    "\n",
    "### 4. Gráficos\n",
    "\n",
    "####  Discretos y categoricos \n",
    "* Diagrama de barras | Diagrama de torta / pastel | Diagrama de puntos : Se usan para representar datos categoricos y cuantatitativos discretos\n",
    "\n",
    "#### Continuos\n",
    "\n",
    "* Histograma\n",
    "* Diagramas de linea / lineales\n",
    "\n",
    "* Diagrama de caja\n",
    "* Diagrama de violin\n",
    "\n",
    "\n",
    "* Scatter plots\n",
    "\n",
    "### 5. Medidas de tendencia central\n",
    "### 6. Medidas de dispersión"
   ]
  },
  {
   "cell_type": "code",
   "execution_count": 2,
   "id": "d367dd84",
   "metadata": {},
   "outputs": [],
   "source": [
    "import pandas as pd"
   ]
  },
  {
   "cell_type": "code",
   "execution_count": 5,
   "id": "b6a6538c",
   "metadata": {},
   "outputs": [
    {
     "data": {
      "text/plain": [
       "0     azul\n",
       "1     rojo\n",
       "2    verde\n",
       "dtype: category\n",
       "Categories (3, object): ['azul', 'rojo', 'verde']"
      ]
     },
     "execution_count": 5,
     "metadata": {},
     "output_type": "execute_result"
    }
   ],
   "source": [
    "s = pd.Series([\"azul\",\"rojo\",\"verde\"])\n",
    "a = pd.Series([\"azul\",\"rojo\",\"verde\"],dtype=\"category\")\n",
    "a"
   ]
  },
  {
   "cell_type": "code",
   "execution_count": 6,
   "id": "ccc486de",
   "metadata": {},
   "outputs": [
    {
     "data": {
      "text/plain": [
       "0     azul\n",
       "1     rojo\n",
       "2    verde\n",
       "dtype: object"
      ]
     },
     "execution_count": 6,
     "metadata": {},
     "output_type": "execute_result"
    }
   ],
   "source": [
    "s"
   ]
  },
  {
   "cell_type": "code",
   "execution_count": 7,
   "id": "589e95ee",
   "metadata": {},
   "outputs": [],
   "source": [
    "import matplotlib.pyplot as plt\n",
    "from sklearn.datasets import fetch_openml"
   ]
  },
  {
   "cell_type": "code",
   "execution_count": 11,
   "id": "9bcc46cd",
   "metadata": {},
   "outputs": [
    {
     "name": "stdout",
     "output_type": "stream",
     "text": [
      "**Author**: Frank E. Harrell Jr., Thomas Cason  \n",
      "**Source**: [Vanderbilt Biostatistics](http://biostat.mc.vanderbilt.edu/wiki/pub/Main/DataSets/titanic.html)  \n",
      "**Please cite**:   \n",
      "\n",
      "The original Titanic dataset, describing the survival status of individual passengers on the Titanic. The titanic data does not contain information from the crew, but it does contain actual ages of half of the passengers. The principal source for data about Titanic passengers is the Encyclopedia Titanica. The datasets used here were begun by a variety of researchers. One of the original sources is Eaton & Haas (1994) Titanic: Triumph and Tragedy, Patrick Stephens Ltd, which includes a passenger list created by many researchers and edited by Michael A. Findlay.\n",
      "\n",
      "Thomas Cason of UVa has greatly updated and improved the titanic data frame using the Encyclopedia Titanica and created the dataset here. Some duplicate passengers have been dropped, many errors corrected, many missing ages filled in, and new variables created. \n",
      "\n",
      "For more information about how this dataset was constructed:\n",
      "http://biostat.mc.vanderbilt.edu/wiki/pub/Main/DataSets/titanic3info.txt\n",
      "\n",
      "\n",
      "### Attribute information  \n",
      "\n",
      "The variables on our extracted dataset are pclass, survived, name, age, embarked, home.dest, room, ticket, boat, and sex. pclass refers to passenger class (1st, 2nd, 3rd), and is a proxy for socio-economic class. Age is in years, and some infants had fractional values. The titanic2 data frame has no missing data and includes records for the crew, but age is dichotomized at adult vs. child. These data were obtained from Robert Dawson, Saint Mary's University, E-mail. The variables are pclass, age, sex, survived. These data frames are useful for demonstrating many of the functions in Hmisc as well as demonstrating binary logistic regression analysis using the Design library. For more details and references see Simonoff, Jeffrey S (1997): The \"unusual episode\" and a second statistics course. J Statistics Education, Vol. 5 No. 1.\n",
      "\n",
      "Downloaded from openml.org.\n"
     ]
    }
   ],
   "source": [
    "# dataset de titanic \n",
    "titanic = fetch_openml('titanic', version=1, as_frame=True)\n",
    "print(titanic.DESCR)"
   ]
  },
  {
   "cell_type": "code",
   "execution_count": 27,
   "id": "55d8f786",
   "metadata": {},
   "outputs": [
    {
     "data": {
      "text/html": [
       "<div>\n",
       "<style scoped>\n",
       "    .dataframe tbody tr th:only-of-type {\n",
       "        vertical-align: middle;\n",
       "    }\n",
       "\n",
       "    .dataframe tbody tr th {\n",
       "        vertical-align: top;\n",
       "    }\n",
       "\n",
       "    .dataframe thead th {\n",
       "        text-align: right;\n",
       "    }\n",
       "</style>\n",
       "<table border=\"1\" class=\"dataframe\">\n",
       "  <thead>\n",
       "    <tr style=\"text-align: right;\">\n",
       "      <th></th>\n",
       "      <th>pclass</th>\n",
       "      <th>name</th>\n",
       "      <th>sex</th>\n",
       "      <th>age</th>\n",
       "      <th>sibsp</th>\n",
       "      <th>parch</th>\n",
       "      <th>ticket</th>\n",
       "      <th>fare</th>\n",
       "      <th>cabin</th>\n",
       "      <th>embarked</th>\n",
       "      <th>boat</th>\n",
       "      <th>body</th>\n",
       "      <th>home.dest</th>\n",
       "    </tr>\n",
       "  </thead>\n",
       "  <tbody>\n",
       "    <tr>\n",
       "      <th>4</th>\n",
       "      <td>1.0</td>\n",
       "      <td>Allison, Mrs. Hudson J C (Bessie Waldo Daniels)</td>\n",
       "      <td>female</td>\n",
       "      <td>25.0</td>\n",
       "      <td>1.0</td>\n",
       "      <td>2.0</td>\n",
       "      <td>113781</td>\n",
       "      <td>151.5500</td>\n",
       "      <td>C22 C26</td>\n",
       "      <td>S</td>\n",
       "      <td>None</td>\n",
       "      <td>NaN</td>\n",
       "      <td>Montreal, PQ / Chesterville, ON</td>\n",
       "    </tr>\n",
       "    <tr>\n",
       "      <th>1129</th>\n",
       "      <td>3.0</td>\n",
       "      <td>Petterson, Mr. Johan Emil</td>\n",
       "      <td>male</td>\n",
       "      <td>25.0</td>\n",
       "      <td>1.0</td>\n",
       "      <td>0.0</td>\n",
       "      <td>347076</td>\n",
       "      <td>7.7750</td>\n",
       "      <td>None</td>\n",
       "      <td>S</td>\n",
       "      <td>None</td>\n",
       "      <td>NaN</td>\n",
       "      <td>None</td>\n",
       "    </tr>\n",
       "    <tr>\n",
       "      <th>812</th>\n",
       "      <td>3.0</td>\n",
       "      <td>Fox, Mr. Patrick</td>\n",
       "      <td>male</td>\n",
       "      <td>NaN</td>\n",
       "      <td>0.0</td>\n",
       "      <td>0.0</td>\n",
       "      <td>368573</td>\n",
       "      <td>7.7500</td>\n",
       "      <td>None</td>\n",
       "      <td>Q</td>\n",
       "      <td>None</td>\n",
       "      <td>NaN</td>\n",
       "      <td>Ireland New York, NY</td>\n",
       "    </tr>\n",
       "    <tr>\n",
       "      <th>953</th>\n",
       "      <td>3.0</td>\n",
       "      <td>Leeni, Mr. Fahim ('Philip Zenni')</td>\n",
       "      <td>male</td>\n",
       "      <td>22.0</td>\n",
       "      <td>0.0</td>\n",
       "      <td>0.0</td>\n",
       "      <td>2620</td>\n",
       "      <td>7.2250</td>\n",
       "      <td>None</td>\n",
       "      <td>C</td>\n",
       "      <td>6</td>\n",
       "      <td>NaN</td>\n",
       "      <td>None</td>\n",
       "    </tr>\n",
       "    <tr>\n",
       "      <th>368</th>\n",
       "      <td>2.0</td>\n",
       "      <td>Chapman, Mr. John Henry</td>\n",
       "      <td>male</td>\n",
       "      <td>37.0</td>\n",
       "      <td>1.0</td>\n",
       "      <td>0.0</td>\n",
       "      <td>SC/AH 29037</td>\n",
       "      <td>26.0000</td>\n",
       "      <td>None</td>\n",
       "      <td>S</td>\n",
       "      <td>None</td>\n",
       "      <td>17.0</td>\n",
       "      <td>Cornwall / Spokane, WA</td>\n",
       "    </tr>\n",
       "    <tr>\n",
       "      <th>781</th>\n",
       "      <td>3.0</td>\n",
       "      <td>Drazenoic, Mr. Jozef</td>\n",
       "      <td>male</td>\n",
       "      <td>33.0</td>\n",
       "      <td>0.0</td>\n",
       "      <td>0.0</td>\n",
       "      <td>349241</td>\n",
       "      <td>7.8958</td>\n",
       "      <td>None</td>\n",
       "      <td>C</td>\n",
       "      <td>None</td>\n",
       "      <td>51.0</td>\n",
       "      <td>Austria Niagara Falls, NY</td>\n",
       "    </tr>\n",
       "    <tr>\n",
       "      <th>221</th>\n",
       "      <td>1.0</td>\n",
       "      <td>Ostby, Mr. Engelhart Cornelius</td>\n",
       "      <td>male</td>\n",
       "      <td>65.0</td>\n",
       "      <td>0.0</td>\n",
       "      <td>1.0</td>\n",
       "      <td>113509</td>\n",
       "      <td>61.9792</td>\n",
       "      <td>B30</td>\n",
       "      <td>C</td>\n",
       "      <td>None</td>\n",
       "      <td>234.0</td>\n",
       "      <td>Providence, RI</td>\n",
       "    </tr>\n",
       "    <tr>\n",
       "      <th>290</th>\n",
       "      <td>1.0</td>\n",
       "      <td>Taussig, Mr. Emil</td>\n",
       "      <td>male</td>\n",
       "      <td>52.0</td>\n",
       "      <td>1.0</td>\n",
       "      <td>1.0</td>\n",
       "      <td>110413</td>\n",
       "      <td>79.6500</td>\n",
       "      <td>E67</td>\n",
       "      <td>S</td>\n",
       "      <td>None</td>\n",
       "      <td>NaN</td>\n",
       "      <td>New York, NY</td>\n",
       "    </tr>\n",
       "    <tr>\n",
       "      <th>1283</th>\n",
       "      <td>3.0</td>\n",
       "      <td>Warren, Mr. Charles William</td>\n",
       "      <td>male</td>\n",
       "      <td>NaN</td>\n",
       "      <td>0.0</td>\n",
       "      <td>0.0</td>\n",
       "      <td>C.A. 49867</td>\n",
       "      <td>7.5500</td>\n",
       "      <td>None</td>\n",
       "      <td>S</td>\n",
       "      <td>None</td>\n",
       "      <td>NaN</td>\n",
       "      <td>None</td>\n",
       "    </tr>\n",
       "    <tr>\n",
       "      <th>1260</th>\n",
       "      <td>3.0</td>\n",
       "      <td>Turja, Miss. Anna Sofia</td>\n",
       "      <td>female</td>\n",
       "      <td>18.0</td>\n",
       "      <td>0.0</td>\n",
       "      <td>0.0</td>\n",
       "      <td>4138</td>\n",
       "      <td>9.8417</td>\n",
       "      <td>None</td>\n",
       "      <td>S</td>\n",
       "      <td>15</td>\n",
       "      <td>NaN</td>\n",
       "      <td>None</td>\n",
       "    </tr>\n",
       "  </tbody>\n",
       "</table>\n",
       "</div>"
      ],
      "text/plain": [
       "      pclass                                             name     sex   age  \\\n",
       "4        1.0  Allison, Mrs. Hudson J C (Bessie Waldo Daniels)  female  25.0   \n",
       "1129     3.0                        Petterson, Mr. Johan Emil    male  25.0   \n",
       "812      3.0                                 Fox, Mr. Patrick    male   NaN   \n",
       "953      3.0                Leeni, Mr. Fahim ('Philip Zenni')    male  22.0   \n",
       "368      2.0                          Chapman, Mr. John Henry    male  37.0   \n",
       "781      3.0                             Drazenoic, Mr. Jozef    male  33.0   \n",
       "221      1.0                   Ostby, Mr. Engelhart Cornelius    male  65.0   \n",
       "290      1.0                                Taussig, Mr. Emil    male  52.0   \n",
       "1283     3.0                      Warren, Mr. Charles William    male   NaN   \n",
       "1260     3.0                          Turja, Miss. Anna Sofia  female  18.0   \n",
       "\n",
       "      sibsp  parch       ticket      fare    cabin embarked  boat   body  \\\n",
       "4       1.0    2.0       113781  151.5500  C22 C26        S  None    NaN   \n",
       "1129    1.0    0.0       347076    7.7750     None        S  None    NaN   \n",
       "812     0.0    0.0       368573    7.7500     None        Q  None    NaN   \n",
       "953     0.0    0.0         2620    7.2250     None        C     6    NaN   \n",
       "368     1.0    0.0  SC/AH 29037   26.0000     None        S  None   17.0   \n",
       "781     0.0    0.0       349241    7.8958     None        C  None   51.0   \n",
       "221     0.0    1.0       113509   61.9792      B30        C  None  234.0   \n",
       "290     1.0    1.0       110413   79.6500      E67        S  None    NaN   \n",
       "1283    0.0    0.0   C.A. 49867    7.5500     None        S  None    NaN   \n",
       "1260    0.0    0.0         4138    9.8417     None        S    15    NaN   \n",
       "\n",
       "                            home.dest  \n",
       "4     Montreal, PQ / Chesterville, ON  \n",
       "1129                             None  \n",
       "812              Ireland New York, NY  \n",
       "953                              None  \n",
       "368            Cornwall / Spokane, WA  \n",
       "781         Austria Niagara Falls, NY  \n",
       "221                    Providence, RI  \n",
       "290                      New York, NY  \n",
       "1283                             None  \n",
       "1260                             None  "
      ]
     },
     "execution_count": 27,
     "metadata": {},
     "output_type": "execute_result"
    }
   ],
   "source": [
    "titanic_df = pd.DataFrame(data=titanic.data)\n",
    "titanic_df.sample(10)"
   ]
  },
  {
   "cell_type": "code",
   "execution_count": 32,
   "id": "541f3b89",
   "metadata": {},
   "outputs": [
    {
     "data": {
      "text/plain": [
       "count    1046.000000\n",
       "mean       29.881135\n",
       "std        14.413500\n",
       "min         0.166700\n",
       "25%        21.000000\n",
       "50%        28.000000\n",
       "75%        39.000000\n",
       "max        80.000000\n",
       "Name: age, dtype: float64"
      ]
     },
     "execution_count": 32,
     "metadata": {},
     "output_type": "execute_result"
    }
   ],
   "source": [
    "titanic_df['age'].describe()"
   ]
  },
  {
   "cell_type": "code",
   "execution_count": 33,
   "id": "30add138",
   "metadata": {},
   "outputs": [
    {
     "data": {
      "text/html": [
       "<div>\n",
       "<style scoped>\n",
       "    .dataframe tbody tr th:only-of-type {\n",
       "        vertical-align: middle;\n",
       "    }\n",
       "\n",
       "    .dataframe tbody tr th {\n",
       "        vertical-align: top;\n",
       "    }\n",
       "\n",
       "    .dataframe thead th {\n",
       "        text-align: right;\n",
       "    }\n",
       "</style>\n",
       "<table border=\"1\" class=\"dataframe\">\n",
       "  <thead>\n",
       "    <tr style=\"text-align: right;\">\n",
       "      <th></th>\n",
       "      <th>pclass</th>\n",
       "      <th>name</th>\n",
       "      <th>sex</th>\n",
       "      <th>age</th>\n",
       "      <th>sibsp</th>\n",
       "      <th>parch</th>\n",
       "      <th>ticket</th>\n",
       "      <th>fare</th>\n",
       "      <th>cabin</th>\n",
       "      <th>embarked</th>\n",
       "      <th>boat</th>\n",
       "      <th>body</th>\n",
       "      <th>home.dest</th>\n",
       "    </tr>\n",
       "  </thead>\n",
       "  <tbody>\n",
       "    <tr>\n",
       "      <th>0</th>\n",
       "      <td>1.0</td>\n",
       "      <td>Allen, Miss. Elisabeth Walton</td>\n",
       "      <td>female</td>\n",
       "      <td>29.0000</td>\n",
       "      <td>0.0</td>\n",
       "      <td>0.0</td>\n",
       "      <td>24160</td>\n",
       "      <td>211.3375</td>\n",
       "      <td>B5</td>\n",
       "      <td>S</td>\n",
       "      <td>2</td>\n",
       "      <td>NaN</td>\n",
       "      <td>St Louis, MO</td>\n",
       "    </tr>\n",
       "    <tr>\n",
       "      <th>1</th>\n",
       "      <td>1.0</td>\n",
       "      <td>Allison, Master. Hudson Trevor</td>\n",
       "      <td>male</td>\n",
       "      <td>0.9167</td>\n",
       "      <td>1.0</td>\n",
       "      <td>2.0</td>\n",
       "      <td>113781</td>\n",
       "      <td>151.5500</td>\n",
       "      <td>C22 C26</td>\n",
       "      <td>S</td>\n",
       "      <td>11</td>\n",
       "      <td>NaN</td>\n",
       "      <td>Montreal, PQ / Chesterville, ON</td>\n",
       "    </tr>\n",
       "    <tr>\n",
       "      <th>2</th>\n",
       "      <td>1.0</td>\n",
       "      <td>Allison, Miss. Helen Loraine</td>\n",
       "      <td>female</td>\n",
       "      <td>2.0000</td>\n",
       "      <td>1.0</td>\n",
       "      <td>2.0</td>\n",
       "      <td>113781</td>\n",
       "      <td>151.5500</td>\n",
       "      <td>C22 C26</td>\n",
       "      <td>S</td>\n",
       "      <td>None</td>\n",
       "      <td>NaN</td>\n",
       "      <td>Montreal, PQ / Chesterville, ON</td>\n",
       "    </tr>\n",
       "    <tr>\n",
       "      <th>3</th>\n",
       "      <td>1.0</td>\n",
       "      <td>Allison, Mr. Hudson Joshua Creighton</td>\n",
       "      <td>male</td>\n",
       "      <td>30.0000</td>\n",
       "      <td>1.0</td>\n",
       "      <td>2.0</td>\n",
       "      <td>113781</td>\n",
       "      <td>151.5500</td>\n",
       "      <td>C22 C26</td>\n",
       "      <td>S</td>\n",
       "      <td>None</td>\n",
       "      <td>135.0</td>\n",
       "      <td>Montreal, PQ / Chesterville, ON</td>\n",
       "    </tr>\n",
       "    <tr>\n",
       "      <th>4</th>\n",
       "      <td>1.0</td>\n",
       "      <td>Allison, Mrs. Hudson J C (Bessie Waldo Daniels)</td>\n",
       "      <td>female</td>\n",
       "      <td>25.0000</td>\n",
       "      <td>1.0</td>\n",
       "      <td>2.0</td>\n",
       "      <td>113781</td>\n",
       "      <td>151.5500</td>\n",
       "      <td>C22 C26</td>\n",
       "      <td>S</td>\n",
       "      <td>None</td>\n",
       "      <td>NaN</td>\n",
       "      <td>Montreal, PQ / Chesterville, ON</td>\n",
       "    </tr>\n",
       "    <tr>\n",
       "      <th>...</th>\n",
       "      <td>...</td>\n",
       "      <td>...</td>\n",
       "      <td>...</td>\n",
       "      <td>...</td>\n",
       "      <td>...</td>\n",
       "      <td>...</td>\n",
       "      <td>...</td>\n",
       "      <td>...</td>\n",
       "      <td>...</td>\n",
       "      <td>...</td>\n",
       "      <td>...</td>\n",
       "      <td>...</td>\n",
       "      <td>...</td>\n",
       "    </tr>\n",
       "    <tr>\n",
       "      <th>1304</th>\n",
       "      <td>3.0</td>\n",
       "      <td>Zabour, Miss. Hileni</td>\n",
       "      <td>female</td>\n",
       "      <td>14.5000</td>\n",
       "      <td>1.0</td>\n",
       "      <td>0.0</td>\n",
       "      <td>2665</td>\n",
       "      <td>14.4542</td>\n",
       "      <td>None</td>\n",
       "      <td>C</td>\n",
       "      <td>None</td>\n",
       "      <td>328.0</td>\n",
       "      <td>None</td>\n",
       "    </tr>\n",
       "    <tr>\n",
       "      <th>1305</th>\n",
       "      <td>3.0</td>\n",
       "      <td>Zabour, Miss. Thamine</td>\n",
       "      <td>female</td>\n",
       "      <td>NaN</td>\n",
       "      <td>1.0</td>\n",
       "      <td>0.0</td>\n",
       "      <td>2665</td>\n",
       "      <td>14.4542</td>\n",
       "      <td>None</td>\n",
       "      <td>C</td>\n",
       "      <td>None</td>\n",
       "      <td>NaN</td>\n",
       "      <td>None</td>\n",
       "    </tr>\n",
       "    <tr>\n",
       "      <th>1306</th>\n",
       "      <td>3.0</td>\n",
       "      <td>Zakarian, Mr. Mapriededer</td>\n",
       "      <td>male</td>\n",
       "      <td>26.5000</td>\n",
       "      <td>0.0</td>\n",
       "      <td>0.0</td>\n",
       "      <td>2656</td>\n",
       "      <td>7.2250</td>\n",
       "      <td>None</td>\n",
       "      <td>C</td>\n",
       "      <td>None</td>\n",
       "      <td>304.0</td>\n",
       "      <td>None</td>\n",
       "    </tr>\n",
       "    <tr>\n",
       "      <th>1307</th>\n",
       "      <td>3.0</td>\n",
       "      <td>Zakarian, Mr. Ortin</td>\n",
       "      <td>male</td>\n",
       "      <td>27.0000</td>\n",
       "      <td>0.0</td>\n",
       "      <td>0.0</td>\n",
       "      <td>2670</td>\n",
       "      <td>7.2250</td>\n",
       "      <td>None</td>\n",
       "      <td>C</td>\n",
       "      <td>None</td>\n",
       "      <td>NaN</td>\n",
       "      <td>None</td>\n",
       "    </tr>\n",
       "    <tr>\n",
       "      <th>1308</th>\n",
       "      <td>3.0</td>\n",
       "      <td>Zimmerman, Mr. Leo</td>\n",
       "      <td>male</td>\n",
       "      <td>29.0000</td>\n",
       "      <td>0.0</td>\n",
       "      <td>0.0</td>\n",
       "      <td>315082</td>\n",
       "      <td>7.8750</td>\n",
       "      <td>None</td>\n",
       "      <td>S</td>\n",
       "      <td>None</td>\n",
       "      <td>NaN</td>\n",
       "      <td>None</td>\n",
       "    </tr>\n",
       "  </tbody>\n",
       "</table>\n",
       "<p>1309 rows × 13 columns</p>\n",
       "</div>"
      ],
      "text/plain": [
       "      pclass                                             name     sex  \\\n",
       "0        1.0                    Allen, Miss. Elisabeth Walton  female   \n",
       "1        1.0                   Allison, Master. Hudson Trevor    male   \n",
       "2        1.0                     Allison, Miss. Helen Loraine  female   \n",
       "3        1.0             Allison, Mr. Hudson Joshua Creighton    male   \n",
       "4        1.0  Allison, Mrs. Hudson J C (Bessie Waldo Daniels)  female   \n",
       "...      ...                                              ...     ...   \n",
       "1304     3.0                             Zabour, Miss. Hileni  female   \n",
       "1305     3.0                            Zabour, Miss. Thamine  female   \n",
       "1306     3.0                        Zakarian, Mr. Mapriededer    male   \n",
       "1307     3.0                              Zakarian, Mr. Ortin    male   \n",
       "1308     3.0                               Zimmerman, Mr. Leo    male   \n",
       "\n",
       "          age  sibsp  parch  ticket      fare    cabin embarked  boat   body  \\\n",
       "0     29.0000    0.0    0.0   24160  211.3375       B5        S     2    NaN   \n",
       "1      0.9167    1.0    2.0  113781  151.5500  C22 C26        S    11    NaN   \n",
       "2      2.0000    1.0    2.0  113781  151.5500  C22 C26        S  None    NaN   \n",
       "3     30.0000    1.0    2.0  113781  151.5500  C22 C26        S  None  135.0   \n",
       "4     25.0000    1.0    2.0  113781  151.5500  C22 C26        S  None    NaN   \n",
       "...       ...    ...    ...     ...       ...      ...      ...   ...    ...   \n",
       "1304  14.5000    1.0    0.0    2665   14.4542     None        C  None  328.0   \n",
       "1305      NaN    1.0    0.0    2665   14.4542     None        C  None    NaN   \n",
       "1306  26.5000    0.0    0.0    2656    7.2250     None        C  None  304.0   \n",
       "1307  27.0000    0.0    0.0    2670    7.2250     None        C  None    NaN   \n",
       "1308  29.0000    0.0    0.0  315082    7.8750     None        S  None    NaN   \n",
       "\n",
       "                            home.dest  \n",
       "0                        St Louis, MO  \n",
       "1     Montreal, PQ / Chesterville, ON  \n",
       "2     Montreal, PQ / Chesterville, ON  \n",
       "3     Montreal, PQ / Chesterville, ON  \n",
       "4     Montreal, PQ / Chesterville, ON  \n",
       "...                               ...  \n",
       "1304                             None  \n",
       "1305                             None  \n",
       "1306                             None  \n",
       "1307                             None  \n",
       "1308                             None  \n",
       "\n",
       "[1309 rows x 13 columns]"
      ]
     },
     "execution_count": 33,
     "metadata": {},
     "output_type": "execute_result"
    }
   ],
   "source": [
    "titanic_df"
   ]
  },
  {
   "cell_type": "code",
   "execution_count": 19,
   "id": "c001d230",
   "metadata": {},
   "outputs": [
    {
     "data": {
      "text/plain": [
       "pclass          0\n",
       "name            0\n",
       "sex             0\n",
       "age           263\n",
       "sibsp           0\n",
       "parch           0\n",
       "ticket          0\n",
       "fare            1\n",
       "cabin        1014\n",
       "embarked        2\n",
       "boat          823\n",
       "body         1188\n",
       "home.dest     564\n",
       "dtype: int64"
      ]
     },
     "execution_count": 19,
     "metadata": {},
     "output_type": "execute_result"
    }
   ],
   "source": [
    "titanic_df.isna().sum()"
   ]
  },
  {
   "cell_type": "code",
   "execution_count": 20,
   "id": "3686ea45",
   "metadata": {},
   "outputs": [],
   "source": [
    "import seaborn as sns"
   ]
  },
  {
   "cell_type": "code",
   "execution_count": 26,
   "id": "39beda30",
   "metadata": {},
   "outputs": [
    {
     "data": {
      "image/png": "[encoded data removed]",
      "text/plain": [
       "<Figure size 640x480 with 1 Axes>"
      ]
     },
     "metadata": {},
     "output_type": "display_data"
    }
   ],
   "source": [
    "sns.set_palette(\"deep\")\n",
    "sns.countplot(data=titanic_df, x='boat', hue='sex') # plt.bar(x=titanic_df['boat'])\n",
    "plt.xticks(rotation=90)\n",
    "plt.xlabel(\"Bote\")\n",
    "plt.ylabel(\"Personas\")\n",
    "plt.show()"
   ]
  },
  {
   "cell_type": "code",
   "execution_count": 35,
   "id": "bacdb503",
   "metadata": {},
   "outputs": [
    {
     "data": {
      "text/plain": [
       "<AxesSubplot: xlabel='age', ylabel='Count'>"
      ]
     },
     "execution_count": 35,
     "metadata": {},
     "output_type": "execute_result"
    },
    {
     "data": {
      "image/png": "[encoded data removed]",
      "text/plain": [
       "<Figure size 640x480 with 1 Axes>"
      ]
     },
     "metadata": {},
     "output_type": "display_data"
    }
   ],
   "source": [
    "# Edad de las personas\n",
    "sns.histplot(data=titanic_df, x='age', kde=True)"
   ]
  },
  {
   "cell_type": "code",
   "execution_count": 42,
   "id": "d8f3abeb",
   "metadata": {},
   "outputs": [
    {
     "data": {
      "text/html": [
       "<div>\n",
       "<style scoped>\n",
       "    .dataframe tbody tr th:only-of-type {\n",
       "        vertical-align: middle;\n",
       "    }\n",
       "\n",
       "    .dataframe tbody tr th {\n",
       "        vertical-align: top;\n",
       "    }\n",
       "\n",
       "    .dataframe thead th {\n",
       "        text-align: right;\n",
       "    }\n",
       "</style>\n",
       "<table border=\"1\" class=\"dataframe\">\n",
       "  <thead>\n",
       "    <tr style=\"text-align: right;\">\n",
       "      <th></th>\n",
       "      <th>pclass</th>\n",
       "      <th>name</th>\n",
       "      <th>sex</th>\n",
       "      <th>age</th>\n",
       "      <th>sibsp</th>\n",
       "      <th>parch</th>\n",
       "      <th>ticket</th>\n",
       "      <th>fare</th>\n",
       "      <th>cabin</th>\n",
       "      <th>embarked</th>\n",
       "      <th>boat</th>\n",
       "      <th>body</th>\n",
       "      <th>home.dest</th>\n",
       "    </tr>\n",
       "  </thead>\n",
       "  <tbody>\n",
       "    <tr>\n",
       "      <th>312</th>\n",
       "      <td>1.0</td>\n",
       "      <td>Widener, Mr. George Dunton</td>\n",
       "      <td>male</td>\n",
       "      <td>50.0</td>\n",
       "      <td>1.0</td>\n",
       "      <td>1.0</td>\n",
       "      <td>113503</td>\n",
       "      <td>211.5000</td>\n",
       "      <td>C80</td>\n",
       "      <td>C</td>\n",
       "      <td>None</td>\n",
       "      <td>NaN</td>\n",
       "      <td>Elkins Park, PA</td>\n",
       "    </tr>\n",
       "    <tr>\n",
       "      <th>882</th>\n",
       "      <td>3.0</td>\n",
       "      <td>Jardin, Mr. Jose Neto</td>\n",
       "      <td>male</td>\n",
       "      <td>NaN</td>\n",
       "      <td>0.0</td>\n",
       "      <td>0.0</td>\n",
       "      <td>SOTON/O.Q. 3101305</td>\n",
       "      <td>7.0500</td>\n",
       "      <td>None</td>\n",
       "      <td>S</td>\n",
       "      <td>None</td>\n",
       "      <td>NaN</td>\n",
       "      <td>None</td>\n",
       "    </tr>\n",
       "    <tr>\n",
       "      <th>556</th>\n",
       "      <td>2.0</td>\n",
       "      <td>Sharp, Mr. Percival James R</td>\n",
       "      <td>male</td>\n",
       "      <td>27.0</td>\n",
       "      <td>0.0</td>\n",
       "      <td>0.0</td>\n",
       "      <td>244358</td>\n",
       "      <td>26.0000</td>\n",
       "      <td>None</td>\n",
       "      <td>S</td>\n",
       "      <td>None</td>\n",
       "      <td>NaN</td>\n",
       "      <td>Hornsey, England</td>\n",
       "    </tr>\n",
       "    <tr>\n",
       "      <th>998</th>\n",
       "      <td>3.0</td>\n",
       "      <td>Matinoff, Mr. Nicola</td>\n",
       "      <td>male</td>\n",
       "      <td>NaN</td>\n",
       "      <td>0.0</td>\n",
       "      <td>0.0</td>\n",
       "      <td>349255</td>\n",
       "      <td>7.8958</td>\n",
       "      <td>None</td>\n",
       "      <td>C</td>\n",
       "      <td>None</td>\n",
       "      <td>NaN</td>\n",
       "      <td>None</td>\n",
       "    </tr>\n",
       "    <tr>\n",
       "      <th>596</th>\n",
       "      <td>2.0</td>\n",
       "      <td>Wilhelms, Mr. Charles</td>\n",
       "      <td>male</td>\n",
       "      <td>31.0</td>\n",
       "      <td>0.0</td>\n",
       "      <td>0.0</td>\n",
       "      <td>244270</td>\n",
       "      <td>13.0000</td>\n",
       "      <td>None</td>\n",
       "      <td>S</td>\n",
       "      <td>9</td>\n",
       "      <td>NaN</td>\n",
       "      <td>London, England</td>\n",
       "    </tr>\n",
       "    <tr>\n",
       "      <th>1023</th>\n",
       "      <td>3.0</td>\n",
       "      <td>Mockler, Miss. Helen Mary 'Ellie'</td>\n",
       "      <td>female</td>\n",
       "      <td>NaN</td>\n",
       "      <td>0.0</td>\n",
       "      <td>0.0</td>\n",
       "      <td>330980</td>\n",
       "      <td>7.8792</td>\n",
       "      <td>None</td>\n",
       "      <td>Q</td>\n",
       "      <td>16</td>\n",
       "      <td>NaN</td>\n",
       "      <td>None</td>\n",
       "    </tr>\n",
       "    <tr>\n",
       "      <th>74</th>\n",
       "      <td>1.0</td>\n",
       "      <td>Clifford, Mr. George Quincy</td>\n",
       "      <td>male</td>\n",
       "      <td>NaN</td>\n",
       "      <td>0.0</td>\n",
       "      <td>0.0</td>\n",
       "      <td>110465</td>\n",
       "      <td>52.0000</td>\n",
       "      <td>A14</td>\n",
       "      <td>S</td>\n",
       "      <td>None</td>\n",
       "      <td>NaN</td>\n",
       "      <td>Stoughton, MA</td>\n",
       "    </tr>\n",
       "    <tr>\n",
       "      <th>1147</th>\n",
       "      <td>3.0</td>\n",
       "      <td>Riihivouri, Miss. Susanna Juhantytar 'Sanni'</td>\n",
       "      <td>female</td>\n",
       "      <td>22.0</td>\n",
       "      <td>0.0</td>\n",
       "      <td>0.0</td>\n",
       "      <td>3101295</td>\n",
       "      <td>39.6875</td>\n",
       "      <td>None</td>\n",
       "      <td>S</td>\n",
       "      <td>None</td>\n",
       "      <td>NaN</td>\n",
       "      <td>None</td>\n",
       "    </tr>\n",
       "    <tr>\n",
       "      <th>631</th>\n",
       "      <td>3.0</td>\n",
       "      <td>Andersson, Mr. Johan Samuel</td>\n",
       "      <td>male</td>\n",
       "      <td>26.0</td>\n",
       "      <td>0.0</td>\n",
       "      <td>0.0</td>\n",
       "      <td>347075</td>\n",
       "      <td>7.7750</td>\n",
       "      <td>None</td>\n",
       "      <td>S</td>\n",
       "      <td>None</td>\n",
       "      <td>NaN</td>\n",
       "      <td>Hartford, CT</td>\n",
       "    </tr>\n",
       "    <tr>\n",
       "      <th>1076</th>\n",
       "      <td>3.0</td>\n",
       "      <td>O'Donoghue, Ms. Bridget</td>\n",
       "      <td>female</td>\n",
       "      <td>NaN</td>\n",
       "      <td>0.0</td>\n",
       "      <td>0.0</td>\n",
       "      <td>364856</td>\n",
       "      <td>7.7500</td>\n",
       "      <td>None</td>\n",
       "      <td>Q</td>\n",
       "      <td>None</td>\n",
       "      <td>NaN</td>\n",
       "      <td>None</td>\n",
       "    </tr>\n",
       "  </tbody>\n",
       "</table>\n",
       "</div>"
      ],
      "text/plain": [
       "      pclass                                          name     sex   age  \\\n",
       "312      1.0                    Widener, Mr. George Dunton    male  50.0   \n",
       "882      3.0                         Jardin, Mr. Jose Neto    male   NaN   \n",
       "556      2.0                   Sharp, Mr. Percival James R    male  27.0   \n",
       "998      3.0                          Matinoff, Mr. Nicola    male   NaN   \n",
       "596      2.0                         Wilhelms, Mr. Charles    male  31.0   \n",
       "1023     3.0             Mockler, Miss. Helen Mary 'Ellie'  female   NaN   \n",
       "74       1.0                   Clifford, Mr. George Quincy    male   NaN   \n",
       "1147     3.0  Riihivouri, Miss. Susanna Juhantytar 'Sanni'  female  22.0   \n",
       "631      3.0                   Andersson, Mr. Johan Samuel    male  26.0   \n",
       "1076     3.0                       O'Donoghue, Ms. Bridget  female   NaN   \n",
       "\n",
       "      sibsp  parch              ticket      fare cabin embarked  boat  body  \\\n",
       "312     1.0    1.0              113503  211.5000   C80        C  None   NaN   \n",
       "882     0.0    0.0  SOTON/O.Q. 3101305    7.0500  None        S  None   NaN   \n",
       "556     0.0    0.0              244358   26.0000  None        S  None   NaN   \n",
       "998     0.0    0.0              349255    7.8958  None        C  None   NaN   \n",
       "596     0.0    0.0              244270   13.0000  None        S     9   NaN   \n",
       "1023    0.0    0.0              330980    7.8792  None        Q    16   NaN   \n",
       "74      0.0    0.0              110465   52.0000   A14        S  None   NaN   \n",
       "1147    0.0    0.0             3101295   39.6875  None        S  None   NaN   \n",
       "631     0.0    0.0              347075    7.7750  None        S  None   NaN   \n",
       "1076    0.0    0.0              364856    7.7500  None        Q  None   NaN   \n",
       "\n",
       "             home.dest  \n",
       "312    Elkins Park, PA  \n",
       "882               None  \n",
       "556   Hornsey, England  \n",
       "998               None  \n",
       "596    London, England  \n",
       "1023              None  \n",
       "74       Stoughton, MA  \n",
       "1147              None  \n",
       "631       Hartford, CT  \n",
       "1076              None  "
      ]
     },
     "execution_count": 42,
     "metadata": {},
     "output_type": "execute_result"
    }
   ],
   "source": [
    "titanic_df.sample(10)"
   ]
  },
  {
   "cell_type": "code",
   "execution_count": 49,
   "id": "eeb8c06f",
   "metadata": {},
   "outputs": [
    {
     "data": {
      "image/png": "[encoded data removed]",
      "text/plain": [
       "<Figure size 640x480 with 1 Axes>"
      ]
     },
     "metadata": {},
     "output_type": "display_data"
    }
   ],
   "source": [
    "sns.countplot(data=titanic_df, x='sex',palette=\"muted\")\n",
    "plt.ylabel(\"Frecuencia\")\n",
    "plt.xlabel(\"Sexo\")\n",
    "plt.title(\"Distribución de sexo\")\n",
    "plt.show()"
   ]
  },
  {
   "cell_type": "code",
   "execution_count": null,
   "id": "44c2b911",
   "metadata": {},
   "outputs": [],
   "source": []
  },
  {
   "cell_type": "code",
   "execution_count": 44,
   "id": "8bdb7f33",
   "metadata": {},
   "outputs": [
    {
     "data": {
      "text/plain": [
       "<AxesSubplot: >"
      ]
     },
     "execution_count": 44,
     "metadata": {},
     "output_type": "execute_result"
    },
    {
     "data": {
      "image/png": "[encoded data removed]",
      "text/plain": [
       "<Figure size 640x480 with 1 Axes>"
      ]
     },
     "metadata": {},
     "output_type": "display_data"
    }
   ],
   "source": [
    "sns.boxplot(titanic_df['age'])"
   ]
  },
  {
   "cell_type": "markdown",
   "id": "e33afa8e",
   "metadata": {},
   "source": [
    "### Outliers / Valores atípicos\n",
    "\n",
    "Un valor atípico es una observacion que es numericamente distante al resto de los datos"
   ]
  },
  {
   "cell_type": "code",
   "execution_count": 45,
   "id": "bd7e8366",
   "metadata": {},
   "outputs": [],
   "source": [
    "x = pd.Series([30,31,32,34,40,41,46,48,2])"
   ]
  },
  {
   "cell_type": "markdown",
   "id": "39792fef",
   "metadata": {},
   "source": [
    "#### Estadístico\n",
    "No es una persona que estudia estadística. Es cualquier función real medible de la muestra de una variable aleatoria\n",
    "\n",
    "#### Variable aleatoria\n",
    "\n",
    "Es una función que asigna un valor al resultado de un experimento aleatorio (0.5 cara, 0.5 cruz)\n",
    "S{1,2,3,4,5,6} -> 1/6\n",
    "\n",
    "\n",
    "### Medidas de tendencia central\n",
    "Conjunto = {29,29,34,41}\n",
    "\n",
    "- Media: $\\bar{x} = \\frac{\\Sigma_{i=1} x_i}{N}$ = (29+29+34+41) / 4\n",
    "\n",
    "La media es sensible a valores atípicos (no es robusta)\n"
   ]
  },
  {
   "cell_type": "code",
   "execution_count": 51,
   "id": "da1ebafc",
   "metadata": {},
   "outputs": [
    {
     "name": "stdout",
     "output_type": "stream",
     "text": [
      "Media de edad de titanic:  29.8811345124283\n",
      "Media de la tarifa:  33.29547928134557\n"
     ]
    }
   ],
   "source": [
    "print(\"Media de edad de titanic: \", titanic_df['age'].mean())\n",
    "print(\"Media de la tarifa: \",titanic_df['fare'].mean())"
   ]
  },
  {
   "cell_type": "code",
   "execution_count": 53,
   "id": "d9744b60",
   "metadata": {},
   "outputs": [
    {
     "data": {
      "text/plain": [
       "count    1046.000000\n",
       "mean       29.881135\n",
       "std        14.413500\n",
       "min         0.166700\n",
       "25%        21.000000\n",
       "50%        28.000000\n",
       "75%        39.000000\n",
       "max        80.000000\n",
       "Name: age, dtype: float64"
      ]
     },
     "execution_count": 53,
     "metadata": {},
     "output_type": "execute_result"
    }
   ],
   "source": [
    "titanic_df.age.describe()"
   ]
  },
  {
   "cell_type": "markdown",
   "id": "42abd404",
   "metadata": {},
   "source": [
    "#### Media recortada\n",
    "\n",
    "Recorta valores extremos (inferior y superior) ya que generalmente estos pueden afectar a la media (en caso que existan outliers)\n",
    "\n",
    "#### Media ponderada"
   ]
  },
  {
   "cell_type": "markdown",
   "id": "3d1fecad",
   "metadata": {},
   "source": [
    "### Mediana\n",
    "\n",
    "Representa el valor de la variable de posicion central en un conjunto ORDENADO. Medida robusta porque no depende valores atípicos.\n",
    "\n",
    "Edades = {41,34,29,29,32,1000}\n",
    "\n",
    "Edades = {29,29,32,34,41,1000} para datos impares es el valor central\n",
    "\n",
    "\n",
    "Mediana(Edades) = 32\n",
    "\n",
    "Edades = {29,29,34,41} Para datos pares es el promedio de los valores centrales\n",
    "\n",
    "Mediana(Edades) = (29+34) / 2 = 31.5\n",
    "\n",
    "### Moda\n",
    "\n",
    "Es el valor que aparece con mayor frecuencia en un conjunto de datos. Es una medida de tc robusta. \n",
    "\n",
    "D0 = {29,30,31}, Moda(D)\n",
    "\n",
    "D = {29,29,30,30,1000}, Moda(D) = {29,30} Bimodales\n",
    "\n"
   ]
  },
  {
   "cell_type": "code",
   "execution_count": 61,
   "id": "bf27cb27",
   "metadata": {},
   "outputs": [
    {
     "data": {
      "text/plain": [
       "0    29\n",
       "1    30\n",
       "2    31\n",
       "dtype: int64"
      ]
     },
     "execution_count": 61,
     "metadata": {},
     "output_type": "execute_result"
    }
   ],
   "source": [
    "pd.Series([29,30,31]).mode()"
   ]
  },
  {
   "cell_type": "code",
   "execution_count": 62,
   "id": "c357bc28",
   "metadata": {},
   "outputs": [],
   "source": [
    "from scipy.stats import trim_mean\n",
    "\n",
    "# ordena un vector de menor a mayor y recorta un % de la cabeza y de la cola de ese vector\n",
    "# debo realizar una imputacion de la columna\n"
   ]
  },
  {
   "cell_type": "code",
   "execution_count": 64,
   "id": "12b35d50",
   "metadata": {},
   "outputs": [
    {
     "data": {
      "text/plain": [
       "263"
      ]
     },
     "execution_count": 64,
     "metadata": {},
     "output_type": "execute_result"
    }
   ],
   "source": [
    "titanic_df.age.isna().sum()\n",
    "# fillna: reemplazar los valores NaN por media, mediana, RIQ\n",
    "# media es sensible a outliers, mediana"
   ]
  },
  {
   "cell_type": "code",
   "execution_count": 68,
   "id": "ef13638f",
   "metadata": {},
   "outputs": [],
   "source": [
    "# reemplazo los nan por la mediana\n",
    "titanic_df.age.fillna(titanic_df.age.median(), inplace=True) #inplace true me sobreescribe el df original"
   ]
  },
  {
   "cell_type": "code",
   "execution_count": 71,
   "id": "14cb5789",
   "metadata": {},
   "outputs": [
    {
     "data": {
      "text/plain": [
       "pclass          0\n",
       "name            0\n",
       "sex             0\n",
       "age             0\n",
       "sibsp           0\n",
       "parch           0\n",
       "ticket          0\n",
       "fare            1\n",
       "cabin        1014\n",
       "embarked        2\n",
       "boat          823\n",
       "body         1188\n",
       "home.dest     564\n",
       "dtype: int64"
      ]
     },
     "execution_count": 71,
     "metadata": {},
     "output_type": "execute_result"
    }
   ],
   "source": [
    "titanic_df.isna().sum() # reemplazamos todos los nulos por la mediana"
   ]
  },
  {
   "cell_type": "code",
   "execution_count": 76,
   "id": "8ab1ed4c",
   "metadata": {},
   "outputs": [
    {
     "name": "stdout",
     "output_type": "stream",
     "text": [
      "La media recortada en un 10% de las edades es:  29.208651399491096\n"
     ]
    },
    {
     "data": {
      "text/plain": [
       "(1309, 13)"
      ]
     },
     "execution_count": 76,
     "metadata": {},
     "output_type": "execute_result"
    }
   ],
   "source": [
    "print(\"La media recortada en un 10% de las edades es: \", trim_mean(titanic_df['age'],.05)) # es un 5% o 10%\n",
    "# Recorte en memoria\n",
    "titanic_df.shape # no afecta al dataset en memoria es local\n"
   ]
  },
  {
   "cell_type": "markdown",
   "id": "604050aa",
   "metadata": {},
   "source": [
    "### Medidas de variabilidad o dispersión\n",
    "\n",
    "Que tan alejados estan los datos entre sí.\n",
    "Grupos\n",
    "\n",
    "Mide el grado de concentración de los valores de la variable X alrededor de un estadístico\n",
    "\n",
    "- Var(X): Nos habla de la dispersión de los datos en torno a la media.\n",
    "\n",
    "- Desvío estándar (std(X))\n",
    "- Coeficiente de variación\n",
    "- Rango \n",
    "- Percentiles\n",
    "\n",
    "Media 10\n",
    "Desvio estándar de 1000\n",
    "\n",
    "A = {2,3,6,8} [cm]\n",
    "\n",
    "$\\bar{x} = (2+3+6+8) / 4 = 4.75 [cm]$\n",
    "\n",
    "$Var(X) = \\frac{(x_1 - \\bar{x})^2 + .. + (x_n - \\bar{x})^2}{N}$ [cm^2]\n",
    "\n",
    "$Std(x) = \\sqrt(var(x))$ [cm]"
   ]
  },
  {
   "cell_type": "code",
   "execution_count": 83,
   "id": "e232ba8e",
   "metadata": {},
   "outputs": [
    {
     "data": {
      "text/plain": [
       "count    1308.000000\n",
       "mean       33.295479\n",
       "std        51.758668\n",
       "min         0.000000\n",
       "25%         7.895800\n",
       "50%        14.454200\n",
       "75%        31.275000\n",
       "max       512.329200\n",
       "Name: fare, dtype: float64"
      ]
     },
     "execution_count": 83,
     "metadata": {},
     "output_type": "execute_result"
    }
   ],
   "source": [
    "titanic_df.fare.describe()"
   ]
  },
  {
   "cell_type": "code",
   "execution_count": 84,
   "id": "6f083aeb",
   "metadata": {},
   "outputs": [
    {
     "name": "stdout",
     "output_type": "stream",
     "text": [
      "Media ticket:  33.29547928134557\n",
      "Varianza  2678.959737892891\n",
      "std 51.75866823917411\n"
     ]
    }
   ],
   "source": [
    "meanFeares = titanic_df.fare.mean()\n",
    "varFares = titanic_df.fare.var()\n",
    "stdFares = titanic_df.fare.std()\n",
    "\n",
    "print(\"Media ticket: \", meanFeares)\n",
    "print(\"Varianza \", varFares)\n",
    "print(\"std\", stdFares)"
   ]
  }
 ],
 "metadata": {
  "kernelspec": {
   "display_name": "Python 3 (ipykernel)",
   "language": "python",
   "name": "python3"
  },
  "language_info": {
   "codemirror_mode": {
    "name": "ipython",
    "version": 3
   },
   "file_extension": ".py",
   "mimetype": "text/x-python",
   "name": "python",
   "nbconvert_exporter": "python",
   "pygments_lexer": "ipython3",
   "version": "3.10.11"
  }
 },
 "nbformat": 4,
 "nbformat_minor": 5
}
