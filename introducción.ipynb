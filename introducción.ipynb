{
 "cells": [
  {
   "cell_type": "markdown",
   "id": "3b88860a",
   "metadata": {},
   "source": [
    "# Introducción al curso\n",
    "\n",
    "Repositorio: https://github.com/dileofrancoj/ds-6-meses\n",
    "\n",
    "Colab: https://colab.research.google.com/\n",
    "\n",
    "## Módulo I: Python y herramientas\n",
    "\n",
    "1) Introducción a Python\n",
    "    - Sintaxis\n",
    "    - Variables y tipos de datos\n",
    "    - Casteo de variables\n",
    "    - Scope\n",
    "    - Listas y referencias\n",
    "    - Diccionarios\n",
    "    - Funciones\n",
    "2) Matplotlib\n",
    "    - Matplot como backend de otras librerias\n",
    "    - plot\n",
    "    - scatter\n",
    "    - bar\n",
    "    - histogramas\n",
    "    \n",
    "    \n",
    "3) Base de numpy: https://www.youtube.com/watch?v=UMBU3Rb9uP4\n",
    "4) Pandas: https://www.youtube.com/watch?v=pGsMzf5VkA8&t=3776s\n",
    "\n",
    "## Módulo II : Estadística\n",
    "1) Estadística para Machine Learning\n",
    "2) Análisis exploratorio de datos\n",
    "\n",
    "## Módulo III\n",
    "\n",
    "En este módulo además de ver modelos se veran conceptos para interpretar resultados y bases matemáticas subyacentes de cada modelo.\n",
    "\n",
    "1) Regresión lineal simple\n",
    "2) Regresión lineal mulitple\n",
    "3) Regresión logística\n",
    "4) Decision tree\n",
    "5) Random forest\n",
    "6) Gradient boosting\n",
    "7) KNN\n",
    "8) SVM\n",
    "\n",
    "## Módulo IV:\n",
    "\n",
    "1) Redes neuronales\n",
    "2) RNN\n",
    "3) Introducción a transformers\n",
    "\n",
    "## Módulo V: Puesta en producción (AWS)\n",
    "1) Servicios en la nube para correr modelos"
   ]
  }
 ],
 "metadata": {
  "kernelspec": {
   "display_name": "Python 3 (ipykernel)",
   "language": "python",
   "name": "python3"
  },
  "language_info": {
   "codemirror_mode": {
    "name": "ipython",
    "version": 3
   },
   "file_extension": ".py",
   "mimetype": "text/x-python",
   "name": "python",
   "nbconvert_exporter": "python",
   "pygments_lexer": "ipython3",
   "version": "3.10.11"
  }
 },
 "nbformat": 4,
 "nbformat_minor": 5
}
