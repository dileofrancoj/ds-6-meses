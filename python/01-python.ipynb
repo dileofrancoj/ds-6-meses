{
 "cells": [
  {
   "cell_type": "markdown",
   "id": "3b5ac858",
   "metadata": {},
   "source": [
    "# Introducción a Python\n",
    "\n",
    "\n",
    "Python es un lenguaje de programación ampliamente utilizado en todo tipo de aplicaciones. Aplicaciones web, desarrollo de aplicaciones de escritorio, scripts y machine learning. Es un lenguaje eficiente y fácil de aprender además de que es multi plataforma (windows, linux, mac os)\n",
    "\n",
    "- Muchos recursos útiles\n",
    "- Comunidad activa muy grande\n",
    "- Multiplataforma y multi sistema operativo\n",
    "\n",
    "> Es un lenguaje orientado a objetos\n",
    "\n",
    "## ¿Qué puede hacer python?\n",
    "\n",
    "- Puede ser utilizado como servidor de aplicaciones web con frameworks como django o flask\n",
    "- Puede conectarse a sistemas con bases de datos\n",
    "- Puede ser utilizado para manipular grandes conjuntos de datos\n",
    "- Es muy utilizado en el ámbito de ciencia\n",
    "\n",
    "Para trabajar con volúmenes grandes de datos miles y cientos de miles de registros, excel se queda corto y para esto surgen herramientas como pandas, numpy que optimizan todo este proceso y podemos crear programas que automaticen el análisis de datos, la limpieza, etc\n",
    "\n",
    "## Versiones\n",
    "\n",
    "Hoy día Python se encuentra en su versión 3\n",
    "\n",
    "## Instalación\n",
    "\n",
    "Mac & Linux ( viene por default )\n",
    "```bash\n",
    "    brew install python\n",
    "    apt-get install python\n",
    "```\n",
    "\n",
    "Windows: https://www.python.org/downloads/\n",
    "\n",
    "Para asegurarnos que tenemos la versión correcta, debemos ir a una terminal y correr el comando de python con el parámetro para ver la versión\n",
    "\n",
    "```bash\n",
    "python3 --version\n",
    "\n",
    "```\n",
    "\n",
    "### Jupyter notebook\n",
    "\n",
    "https://jupyter.org/install\n",
    "\n",
    "## Visual Studio\n",
    "\n",
    "https://visualstudio.microsoft.com/es/\n",
    "\n",
    "## Hola mundo\n",
    "\n",
    "```python\n",
    "print(\"Hola mundo\")\n",
    "````\n",
    "\n",
    "Para correr este comando, debemos ir a una terminal, pararnos en la ubicación de este archivo y ejecutar el siguiente comando\n",
    "\n",
    "```bash\n",
    "python3 scrip.py\n",
    "```\n",
    "\n",
    "## Indentación en Python\n",
    "\n",
    "Uno de los conceptos más extraños especialmente si venimos de otros lenguajes. La indentación se refiere al espaciado al inicio de una linea de código. Mientras que en otros lenguajes la indentación es pura y exclusivamente para la legibilidad, en Python es importante ya que actua como un bloque de código.\n",
    "\n",
    "```python\n",
    "    if 2 == 2:\n",
    "        print(\"Los números son iguales\")\n",
    "        \n",
    "    if 2 == 2:\n",
    "    print(\"Los números son iguales\")\n",
    "```\n",
    "\n",
    "El último nos generará un tipo de error llamado error de sintaxis dentro de python y esto se debe a la falta de espacios (indentación) entre los elementos. Yo como indentación voy a estar usando la tabulación (4 espacios)\n",
    "\n",
    "## Variables y tipos de datos\n",
    "\n",
    "Una variable es un lugar dentro de la memoria de almacenamiento que será utilizado para guardar un valor concreto (después hablaremos más de los tipos de datos)\n",
    "\n",
    "Comparado con otros lenguajes, python no tiene un tipado estático ni tampoco una palabra reservada para inicializar una variable. Es simplemente cuestión de elegir un buen nombre y guardar el dato que se nos de la gana.\n",
    "\n",
    "Las variables NO pueden empezar con caracteres extraños (numeros, guines medios, arrobas, etc) ni contener espacios. Se busca que el nombre sea lo más descriptivo posible del dato que va a almacenar, sea pronunciable y fácil de recordar. También es importante que no sea una palabra reservada por el lenguaje de programación (como if, else, def, etc)\n",
    "\n",
    "```python\n",
    "nombre = \"franco\" # string str\n",
    "edad = 29 # int\n",
    "casado = False # booleano\n",
    "```\n",
    "\n",
    "Vemos que acá estamos inicializando 3 variables distintas, nombre, edad y casado. Y, a cada una de estas le estamos dando distintos valores (que son tipos de datos distintos)\n",
    "\n",
    "```python\n",
    "    print(\"Casado: \", casado)\n",
    "```\n",
    "\n",
    "### Casteo de variables\n",
    "\n",
    "```python\n",
    "    age = 3\n",
    "    age_as_string = str(age) # '3'\n",
    "    age_as_float = float(3) # 3.0\n",
    "    age_as_int = int(age_as_string) # 3\n",
    "```\n",
    "\n",
    "### Errores al castear\n",
    "\n",
    "```python\n",
    "    name = \"fran\"\n",
    "    age = int(name)\n",
    "    # invalid literal for int() with base 10\n",
    "```\n",
    "\n",
    "Vemos que esto en general puede suceder al no contar con tipos definidos por eso debemos hacer un buen control de errores en nuestros flujos. Esto se suele manejar con bloques de excepciones que veremos luego. Una forma que tenemos de controlar los tipos es a través de la función nativa type y esto nos arrojará todos los tipos de datos que python soporta\n",
    "\n",
    "```python\n",
    "    type(3) # int\n",
    "    type(\"fran\") # string\n",
    "    type(3.2) # float\n",
    "    type(False) # bool\n",
    "```\n",
    "\n",
    "## Comentarios\n",
    "\n",
    "Los comentarios son muy utiles para hacer referencia a una funcionalidad, a una porción de código o incluso a documentar tareas pendientes.\n",
    "\n",
    "Los comentarios pueden ser en una linea o tener varias lineas \n",
    "\n",
    "```python\n",
    "# comentario\n",
    "\n",
    "\"\"\"\n",
    "otro \n",
    "comentario\n",
    "\"\"\"\n",
    "```\n",
    "\n",
    "## Overwriting\n",
    "\n",
    "Las variables, al ser globales pueden pisarse\n",
    "\n",
    "```python\n",
    "    name = \"fran\"\n",
    "    name = \"hola\"\n",
    "    print(name)\n",
    "    # hola\n",
    "```"
   ]
  },
  {
   "cell_type": "markdown",
   "id": "738ce1e6",
   "metadata": {},
   "source": [
    "## Tipos de datos\n",
    "\n",
    "- String\n",
    "- Float\n",
    "- Int\n",
    "- Boolean\n",
    "- Dict\n",
    "- List\n",
    "- Tuple\n",
    "- Range\n",
    "- None\n",
    "- Set\n",
    "- Fronzen set"
   ]
  },
  {
   "cell_type": "code",
   "execution_count": 5,
   "id": "f3666bde",
   "metadata": {},
   "outputs": [
    {
     "data": {
      "text/plain": [
       "str"
      ]
     },
     "execution_count": 5,
     "metadata": {},
     "output_type": "execute_result"
    }
   ],
   "source": [
    "name = \"franco\"\n",
    "type(name)\n",
    "# print(\"hola\", name)"
   ]
  },
  {
   "cell_type": "code",
   "execution_count": 6,
   "id": "ef7a1355",
   "metadata": {},
   "outputs": [
    {
     "data": {
      "text/plain": [
       "int"
      ]
     },
     "execution_count": 6,
     "metadata": {},
     "output_type": "execute_result"
    }
   ],
   "source": [
    "name = 82\n",
    "type(name)"
   ]
  },
  {
   "cell_type": "code",
   "execution_count": 9,
   "id": "e6f1ea56",
   "metadata": {},
   "outputs": [
    {
     "data": {
      "text/plain": [
       "list"
      ]
     },
     "execution_count": 9,
     "metadata": {},
     "output_type": "execute_result"
    }
   ],
   "source": [
    "type(False)\n",
    "type([\"franco\",\"ceci\"])"
   ]
  },
  {
   "cell_type": "markdown",
   "id": "5500f3bb",
   "metadata": {},
   "source": [
    "## Listas\n",
    "las listas son usadas para guardar multiples elementos en una sola variable. Built-in del lenguaje\n",
    "Son ordenadas, intercambiables y admite duplicadas. Los elementos son indexados y el primer elemento tiene indice 0 "
   ]
  },
  {
   "cell_type": "code",
   "execution_count": 34,
   "id": "1ce4d014",
   "metadata": {},
   "outputs": [
    {
     "name": "stdout",
     "output_type": "stream",
     "text": [
      "['franco', 'juan pablo', 'hernan', 'ale', 'matias', 'david']\n",
      "['programar y entrenar', 'el 🐍', 'jugar al basket', 'ir a la playa y tomar 🥂', 'entrenar y jugar juegos de mesas', 'vencer a goliat']\n"
     ]
    },
    {
     "data": {
      "text/plain": [
       "6"
      ]
     },
     "execution_count": 34,
     "metadata": {},
     "output_type": "execute_result"
    }
   ],
   "source": [
    "nombres = [\"franco\",\"juan pablo\",\"hernan\",\"ale\",\"matias\",\"david\"]\n",
    "hobbies = [\"programar y entrenar\", \"el 🐍\",\"jugar al basket\",\"ir a la playa y tomar 🥂\",\"entrenar y jugar juegos de mesas\",\"vencer a goliat\"]\n",
    "print(lista_01)\n",
    "print(hobbies)\n",
    "type(lista_01)\n",
    "len(lista_01)"
   ]
  },
  {
   "cell_type": "code",
   "execution_count": 20,
   "id": "a0b0bca0",
   "metadata": {},
   "outputs": [
    {
     "name": "stdout",
     "output_type": "stream",
     "text": [
      "franco  tiene por hobbie:  programar y entrenar\n"
     ]
    }
   ],
   "source": [
    "print(nombres[0], \" tiene por hobbie: \", hobbies[0])"
   ]
  },
  {
   "cell_type": "code",
   "execution_count": 24,
   "id": "d7c1d2af",
   "metadata": {},
   "outputs": [],
   "source": [
    "# list[-1] ultimo elemento de la lista\n"
   ]
  },
  {
   "cell_type": "code",
   "execution_count": 26,
   "id": "1e630a09",
   "metadata": {},
   "outputs": [],
   "source": [
    "length_list = len(nombres)"
   ]
  },
  {
   "cell_type": "code",
   "execution_count": 28,
   "id": "e8cade3d",
   "metadata": {},
   "outputs": [
    {
     "name": "stdout",
     "output_type": "stream",
     "text": [
      "El ultimo elemento de la lista nombres es : david\n"
     ]
    }
   ],
   "source": [
    "print(\"El ultimo elemento de la lista nombres es :\", nombres[length_list - 1])"
   ]
  },
  {
   "cell_type": "code",
   "execution_count": 29,
   "id": "71e7058e",
   "metadata": {},
   "outputs": [
    {
     "name": "stdout",
     "output_type": "stream",
     "text": [
      "franco  tiene por hobbie:  programar y entrenar\n"
     ]
    }
   ],
   "source": [
    "print(nombres[-6], \" tiene por hobbie: \", hobbies[-6])"
   ]
  },
  {
   "cell_type": "code",
   "execution_count": 30,
   "id": "ad5e2860",
   "metadata": {},
   "outputs": [],
   "source": [
    "lista_ensalada = [\"Franco\",29, False, \"Mascotas\",[\"amazonas\",\"perla\"]]"
   ]
  },
  {
   "cell_type": "code",
   "execution_count": 33,
   "id": "4fdd704b",
   "metadata": {},
   "outputs": [
    {
     "name": "stdout",
     "output_type": "stream",
     "text": [
      "<class 'list'>\n"
     ]
    }
   ],
   "source": [
    "nombres = list((\"franco\",\"juan pablo\",\"hernan\",\"ale\",\"matias\",\"david\"))\n",
    "print(type(nombres))"
   ]
  },
  {
   "cell_type": "code",
   "execution_count": 54,
   "id": "3a17b163",
   "metadata": {},
   "outputs": [
    {
     "name": "stdout",
     "output_type": "stream",
     "text": [
      "['juan pablo', 'hernan', 'ale', 'matias', 'david']\n"
     ]
    }
   ],
   "source": [
    "# start, stop, step (de donde comienzo a recorrer,)\n",
    "print(nombres[1:len(nombres):1]) # el stop no se incluye (4) []"
   ]
  },
  {
   "cell_type": "code",
   "execution_count": 55,
   "id": "83cf34ad",
   "metadata": {},
   "outputs": [
    {
     "name": "stdout",
     "output_type": "stream",
     "text": [
      "['jugar al basket']\n"
     ]
    }
   ],
   "source": [
    "print(hobbies[2:5:3])"
   ]
  },
  {
   "cell_type": "code",
   "execution_count": 59,
   "id": "da088a0c",
   "metadata": {},
   "outputs": [],
   "source": [
    "nombres[0] = \"Miguel\"\n",
    "hobbies[0] = \"Guitarra 🎸\"\n"
   ]
  },
  {
   "cell_type": "code",
   "execution_count": 62,
   "id": "2ffd3d37",
   "metadata": {},
   "outputs": [
    {
     "name": "stdout",
     "output_type": "stream",
     "text": [
      "['Miguel', 'juan pablo', 'hernan', 'ale', 'matias', 'david'] ['Guitarra 🎸', 'el 🐍', 'jugar al basket', 'ir a la playa y tomar 🥂', 'entrenar y jugar juegos de mesas', 'vencer a goliat']\n"
     ]
    }
   ],
   "source": [
    "print(nombres, hobbies)"
   ]
  },
  {
   "cell_type": "code",
   "execution_count": 65,
   "id": "4b2faebb",
   "metadata": {},
   "outputs": [],
   "source": [
    "saludos = list((\"holis\",\"aloha\"))"
   ]
  },
  {
   "cell_type": "code",
   "execution_count": 66,
   "id": "c690e067",
   "metadata": {},
   "outputs": [
    {
     "data": {
      "text/plain": [
       "list"
      ]
     },
     "execution_count": 66,
     "metadata": {},
     "output_type": "execute_result"
    }
   ],
   "source": [
    "type(saludos)"
   ]
  },
  {
   "cell_type": "code",
   "execution_count": 67,
   "id": "e8d7213d",
   "metadata": {},
   "outputs": [],
   "source": [
    "# nombres[6] = \"Camila\" \n",
    "# hobbies[6] = \"Entrenar\"\n",
    "nombres.append(\"Camila\") # agrega un elemento al final de la lista\n",
    "hobbies.append(\"Entrenar\")"
   ]
  },
  {
   "cell_type": "code",
   "execution_count": 68,
   "id": "4f2c4681",
   "metadata": {},
   "outputs": [
    {
     "name": "stdout",
     "output_type": "stream",
     "text": [
      "['Miguel', 'juan pablo', 'hernan', 'ale', 'matias', 'david', 'Camila']\n"
     ]
    }
   ],
   "source": [
    "print(nombres)"
   ]
  },
  {
   "cell_type": "code",
   "execution_count": 74,
   "id": "e9e4e032",
   "metadata": {},
   "outputs": [],
   "source": [
    "try:\n",
    "    nombres[7] = \"Stefi.\"\n",
    "    hobbies[7] = \"Leer :P\"\n",
    "except:\n",
    "    pass"
   ]
  },
  {
   "cell_type": "code",
   "execution_count": 98,
   "id": "7c7b6bc5",
   "metadata": {},
   "outputs": [],
   "source": [
    "frutas = [\"Papaya 🥔\",\"Mango\",\"Dragon Fruit (la pasionaria)\",\"Granada\"]\n",
    "licuados = [\"Banana\",\"Frutilla\",\"Maracuya\",\"Durazno\"]\n",
    "frutas_licuados = licuados + frutas\n"
   ]
  },
  {
   "cell_type": "code",
   "execution_count": null,
   "id": "cc05120f",
   "metadata": {},
   "outputs": [],
   "source": []
  },
  {
   "cell_type": "code",
   "execution_count": 99,
   "id": "05ecd11e",
   "metadata": {},
   "outputs": [
    {
     "name": "stdout",
     "output_type": "stream",
     "text": [
      "['Banana', 'Frutilla', 'Maracuya', 'Durazno', 'Papaya 🥔', 'Mango', 'Dragon Fruit (la pasionaria)', 'Granada']\n"
     ]
    }
   ],
   "source": [
    "print(frutas_licuados)"
   ]
  },
  {
   "cell_type": "code",
   "execution_count": 100,
   "id": "40b7ed01",
   "metadata": {},
   "outputs": [
    {
     "name": "stdout",
     "output_type": "stream",
     "text": [
      "['Banana', 'Frutilla', 'Maracuya', 'Durazno']\n"
     ]
    }
   ],
   "source": [
    "print(licuados)"
   ]
  },
  {
   "cell_type": "code",
   "execution_count": 103,
   "id": "c91c04de",
   "metadata": {},
   "outputs": [
    {
     "name": "stdout",
     "output_type": "stream",
     "text": [
      "['Papaya 🥔', 'Mango', 'Dragon Fruit (la pasionaria)', 'Granada', ['Banana', 'Frutilla', 'Maracuya', 'Durazno'], ['Banana', 'Frutilla', 'Maracuya', 'Durazno'], ['Banana', 'Frutilla', 'Maracuya', 'Durazno']]\n"
     ]
    }
   ],
   "source": [
    "frutas_licuados = frutas.append(licuados)\n",
    "# print(frutas)"
   ]
  },
  {
   "cell_type": "code",
   "execution_count": 91,
   "id": "67404d8c",
   "metadata": {},
   "outputs": [
    {
     "name": "stdout",
     "output_type": "stream",
     "text": [
      "['Papaya 🥔', 'Mango', 'Dragon Fruit (la pasionaria)', 'Granada']\n"
     ]
    }
   ],
   "source": [
    "print(frutas)"
   ]
  },
  {
   "cell_type": "code",
   "execution_count": 93,
   "id": "44a96af3",
   "metadata": {},
   "outputs": [
    {
     "name": "stdout",
     "output_type": "stream",
     "text": [
      "[1.8, 1.75, 1.82, 1.76, 1.82, 1.83, 1.6]\n"
     ]
    }
   ],
   "source": [
    "alturas_cancun = [1.8,1.75,1.82]\n",
    "alturas_argentina = [1.76,1.82,1.83,1.60]\n",
    "alturas = alturas_cancun + alturas_argentina\n",
    "print(alturas)"
   ]
  },
  {
   "cell_type": "code",
   "execution_count": 104,
   "id": "56ddc399",
   "metadata": {},
   "outputs": [
    {
     "data": {
      "text/plain": [
       "['miguel', ['Stefi :P', 'Ceci (gabriel)']]"
      ]
     },
     "execution_count": 104,
     "metadata": {},
     "output_type": "execute_result"
    }
   ],
   "source": [
    "nombres_02 =  [\"miguel\"]\n",
    "nombres_02.append([\"Stefi :P\", \"Ceci (gabriel)\"])\n",
    "nombres_02"
   ]
  },
  {
   "cell_type": "code",
   "execution_count": 105,
   "id": "339ca317",
   "metadata": {},
   "outputs": [
    {
     "ename": "NameError",
     "evalue": "name 'nombre' is not defined",
     "output_type": "error",
     "traceback": [
      "\u001b[0;31m---------------------------------------------------------------------------\u001b[0m",
      "\u001b[0;31mNameError\u001b[0m                                 Traceback (most recent call last)",
      "Cell \u001b[0;32mIn[105], line 1\u001b[0m\n\u001b[0;32m----> 1\u001b[0m \u001b[38;5;28mprint\u001b[39m(\u001b[43mnombre\u001b[49m)\n",
      "\u001b[0;31mNameError\u001b[0m: name 'nombre' is not defined"
     ]
    }
   ],
   "source": [
    "print(nombre)"
   ]
  },
  {
   "cell_type": "markdown",
   "id": "569854ad",
   "metadata": {},
   "source": [
    "## Iteraciones\n",
    "\n",
    "for in\n",
    "\n",
    "while\n",
    "\n",
    "list comprehension\n"
   ]
  },
  {
   "cell_type": "code",
   "execution_count": 115,
   "id": "2e478eec",
   "metadata": {},
   "outputs": [],
   "source": [
    "nombres.append(\"fran\")"
   ]
  },
  {
   "cell_type": "code",
   "execution_count": 118,
   "id": "51b46713",
   "metadata": {},
   "outputs": [
    {
     "name": "stdout",
     "output_type": "stream",
     "text": [
      "Nombre:  Miguel\n",
      "Nombre:  juan pablo\n",
      "Nombre:  hernan\n",
      "Nombre:  ale\n",
      "Nombre:  matias\n",
      "Nombre:  david\n",
      "Nombre:  Camila\n",
      "Este no pertenece a la lista de estudiantes (?)\n"
     ]
    }
   ],
   "source": [
    "# Recorre la lista nombres y, para cada elemento crear una variable temporal (nombre)\n",
    "# Gargabe collector\n",
    "for x in nombres:\n",
    "    if x == \"fran\":\n",
    "        print(\"Este no pertenece a la lista de estudiantes (?)\")\n",
    "    else:        \n",
    "        print(\"Nombre: \", x)"
   ]
  },
  {
   "cell_type": "code",
   "execution_count": 119,
   "id": "473e0659",
   "metadata": {},
   "outputs": [
    {
     "name": "stdout",
     "output_type": "stream",
     "text": [
      "Miguel\n",
      "juan pablo\n",
      "hernan\n",
      "ale\n",
      "matias\n",
      "david\n",
      "Camila\n",
      "fran\n"
     ]
    },
    {
     "data": {
      "text/plain": [
       "[None, None, None, None, None, None, None, None]"
      ]
     },
     "execution_count": 119,
     "metadata": {},
     "output_type": "execute_result"
    }
   ],
   "source": [
    "[print(x) for x in nombres]"
   ]
  },
  {
   "cell_type": "markdown",
   "id": "b38bbf9d",
   "metadata": {},
   "source": [
    "## Funciones\n",
    "\n",
    "Una función es un bloque de código que se ejecuta cuando es llamado dentro del programa. A este bloque podemos pasarle parámetros, puede retornar información, etc. \n",
    "\n",
    "Para crear funciones en python, se usa la palabra **def**\n",
    "\n",
    "```python\n",
    "    def mifuncion():\n",
    "        print(\"hola\")\n",
    "```"
   ]
  },
  {
   "cell_type": "code",
   "execution_count": 144,
   "id": "13ece45f",
   "metadata": {},
   "outputs": [
    {
     "data": {
      "text/plain": [
       "['Miguel', 'juan pablo', 'hernan', 'ale', 'matias', 'david', 'Camila', 'fran']"
      ]
     },
     "execution_count": 144,
     "metadata": {},
     "output_type": "execute_result"
    }
   ],
   "source": [
    "nombres"
   ]
  },
  {
   "cell_type": "code",
   "execution_count": 145,
   "id": "aad6d017",
   "metadata": {},
   "outputs": [
    {
     "data": {
      "text/plain": [
       "(8, 7)"
      ]
     },
     "execution_count": 145,
     "metadata": {},
     "output_type": "execute_result"
    }
   ],
   "source": [
    "len(nombres), len(hobbies)"
   ]
  },
  {
   "cell_type": "code",
   "execution_count": 140,
   "id": "18f09276",
   "metadata": {},
   "outputs": [
    {
     "data": {
      "text/plain": [
       "range(0, 8)"
      ]
     },
     "execution_count": 140,
     "metadata": {},
     "output_type": "execute_result"
    }
   ],
   "source": [
    "range(len(nombres))"
   ]
  },
  {
   "cell_type": "code",
   "execution_count": 154,
   "id": "181bfe24",
   "metadata": {},
   "outputs": [
    {
     "name": "stdout",
     "output_type": "stream",
     "text": [
      "Holis  Miguel ✋ me encanta que te guste Guitarra 🎸\n",
      "--------------------------------------------------\n",
      "Holis  juan pablo ✋ me encanta que te guste el 🐍\n",
      "--------------------------------------------------\n",
      "Holis  hernan ✋ me encanta que te guste jugar al basket\n",
      "--------------------------------------------------\n",
      "Holis  ale ✋ me encanta que te guste ir a la playa y tomar 🥂\n",
      "--------------------------------------------------\n",
      "Holis  matias ✋ me encanta que te guste entrenar y jugar juegos de mesas\n",
      "--------------------------------------------------\n",
      "Holis  david ✋ me encanta que te guste vencer a goliat\n",
      "--------------------------------------------------\n",
      "Holis  Camila ✋ me encanta que te guste Entrenar\n",
      "--------------------------------------------------\n"
     ]
    },
    {
     "ename": "IndexError",
     "evalue": "list index out of range",
     "output_type": "error",
     "traceback": [
      "\u001b[0;31m---------------------------------------------------------------------------\u001b[0m",
      "\u001b[0;31mIndexError\u001b[0m                                Traceback (most recent call last)",
      "Cell \u001b[0;32mIn[154], line 2\u001b[0m\n\u001b[1;32m      1\u001b[0m \u001b[38;5;28;01mfor\u001b[39;00m i \u001b[38;5;129;01min\u001b[39;00m \u001b[38;5;28mrange\u001b[39m(\u001b[38;5;28mlen\u001b[39m(nombres)):\n\u001b[0;32m----> 2\u001b[0m     \u001b[38;5;28mprint\u001b[39m(\u001b[38;5;124m\"\u001b[39m\u001b[38;5;124mHolis \u001b[39m\u001b[38;5;124m\"\u001b[39m, nombres[i], \u001b[38;5;124m\"\u001b[39m\u001b[38;5;124m✋ me encanta que te guste\u001b[39m\u001b[38;5;124m\"\u001b[39m, \u001b[43mhobbies\u001b[49m\u001b[43m[\u001b[49m\u001b[43mi\u001b[49m\u001b[43m]\u001b[49m)\n\u001b[1;32m      3\u001b[0m     \u001b[38;5;28mprint\u001b[39m(\u001b[38;5;124m\"\u001b[39m\u001b[38;5;124m--------------------------------------------------\u001b[39m\u001b[38;5;124m\"\u001b[39m)\n",
      "\u001b[0;31mIndexError\u001b[0m: list index out of range"
     ]
    }
   ],
   "source": [
    "for i in range(len(nombres)):\n",
    "    print(\"Holis \", nombres[i], \"✋ me encanta que te guste\", hobbies[i])\n",
    "    print(\"--------------------------------------------------\")"
   ]
  },
  {
   "cell_type": "code",
   "execution_count": 155,
   "id": "95fd28ca",
   "metadata": {},
   "outputs": [],
   "source": [
    "def saludarParticipantes(nombres):\n",
    "    for i in range(len(nombres)):\n",
    "        try:\n",
    "            print(\"Holis \", nombres[i], \"✋ me encanta que te guste\", hobbies[i])\n",
    "            print(\"--------------------------------------------------\")\n",
    "        except:\n",
    "            print(\"Hubo un lio\")"
   ]
  },
  {
   "cell_type": "code",
   "execution_count": 156,
   "id": "d04ba022",
   "metadata": {},
   "outputs": [
    {
     "name": "stdout",
     "output_type": "stream",
     "text": [
      "Holis  Miguel ✋ me encanta que te guste Guitarra 🎸\n",
      "--------------------------------------------------\n",
      "Holis  juan pablo ✋ me encanta que te guste el 🐍\n",
      "--------------------------------------------------\n",
      "Holis  hernan ✋ me encanta que te guste jugar al basket\n",
      "--------------------------------------------------\n",
      "Holis  ale ✋ me encanta que te guste ir a la playa y tomar 🥂\n",
      "--------------------------------------------------\n",
      "Holis  matias ✋ me encanta que te guste entrenar y jugar juegos de mesas\n",
      "--------------------------------------------------\n",
      "Holis  david ✋ me encanta que te guste vencer a goliat\n",
      "--------------------------------------------------\n",
      "Holis  Camila ✋ me encanta que te guste Entrenar\n",
      "--------------------------------------------------\n",
      "Hubo un lio\n"
     ]
    }
   ],
   "source": [
    "saludarParticipantes(nombres)"
   ]
  },
  {
   "cell_type": "code",
   "execution_count": 157,
   "id": "04bfa47b",
   "metadata": {},
   "outputs": [
    {
     "data": {
      "text/plain": [
       "[<matplotlib.lines.Line2D at 0x109daaa40>]"
      ]
     },
     "execution_count": 157,
     "metadata": {},
     "output_type": "execute_result"
    },
    {
     "data": {
      "image/png": "[encoded data removed]",
      "text/plain": [
       "<Figure size 640x480 with 1 Axes>"
      ]
     },
     "metadata": {},
     "output_type": "display_data"
    }
   ],
   "source": [
    "import matplotlib.pyplot as plt\n",
    "x = [1,2,3,4,5]\n",
    "y = [2,4,5,6,7]\n",
    "\n",
    "plt.plot(x,y,marker=\"^\",c='r')"
   ]
  },
  {
   "cell_type": "code",
   "execution_count": 159,
   "id": "cf3d811a",
   "metadata": {},
   "outputs": [],
   "source": [
    "# suma de todos los elementos de una colección dividido el total\n",
    "alturas = [1.82,1.59,1.65,1.74,1.6,1.73, 1.94]"
   ]
  },
  {
   "cell_type": "code",
   "execution_count": 162,
   "id": "091e869d",
   "metadata": {},
   "outputs": [],
   "source": [
    "import pandas as pd"
   ]
  },
  {
   "cell_type": "code",
   "execution_count": 175,
   "id": "33f1e84a",
   "metadata": {},
   "outputs": [],
   "source": [
    "def calculateMean(array):\n",
    "    total = 0\n",
    "    for item in array:\n",
    "        total += item # acumulador total += item\n",
    "    \n",
    "    print(total / len(array))"
   ]
  },
  {
   "cell_type": "code",
   "execution_count": 176,
   "id": "31ad43ee",
   "metadata": {},
   "outputs": [
    {
     "name": "stdout",
     "output_type": "stream",
     "text": [
      "1.7242857142857144\n"
     ]
    }
   ],
   "source": [
    "calculateMean(alturas)"
   ]
  },
  {
   "cell_type": "code",
   "execution_count": null,
   "id": "faa14225",
   "metadata": {},
   "outputs": [],
   "source": []
  }
 ],
 "metadata": {
  "kernelspec": {
   "display_name": "Python 3 (ipykernel)",
   "language": "python",
   "name": "python3"
  },
  "language_info": {
   "codemirror_mode": {
    "name": "ipython",
    "version": 3
   },
   "file_extension": ".py",
   "mimetype": "text/x-python",
   "name": "python",
   "nbconvert_exporter": "python",
   "pygments_lexer": "ipython3",
   "version": "3.10.11"
  }
 },
 "nbformat": 4,
 "nbformat_minor": 5
}
