{
 "cells": [
  {
   "cell_type": "markdown",
   "id": "b40162a4",
   "metadata": {},
   "source": [
    "# Revisión: Clase nro 1\n",
    "\n",
    "### Sintaxis de Python:\n",
    "\n",
    "1. Escribe un programa que solicite al usuario su nombre y luego imprima un saludo que incluya su nombre.\n",
    "\n",
    "2. Crea un programa que calcule el área de un triángulo utilizando la fórmula A = (base * altura) / 2. Solicita al usuario que ingrese la base y la altura.\n",
    "\n",
    "### Listas:\n",
    "\n",
    "1. Crea una lista de números enteros y luego escribe un programa que encuentre el número más grande en esa lista.\n",
    "\n",
    "2. Escribe un programa que tome una lista de palabras y devuelva otra lista que contenga solo las palabras de 5 letras o más.\n",
    "\n",
    "### Diccionarios:\n",
    "\n",
    "1. Crea un diccionario que almacene nombres de personas como claves y sus edades como valores. Luego, pide al usuario que ingrese un nombre y muestra la edad correspondiente.\n",
    "\n",
    "2. Crea un diccionario que contenga nombres de frutas como claves y sus cantidades como valores. Luego, permite al usuario actualizar la cantidad de una fruta específica y muestra el diccionario actualizado.\n",
    "\n",
    "### Funciones\n",
    "\n",
    "1. Escribe una función llamada suma que tome dos números como argumentos y devuelva su suma. Luego, pide al usuario que ingrese dos números y muestra el resultado de la suma.\n",
    "\n",
    "2. Crea una función llamada es_par que tome un número como argumento y devuelva True si es par y False si es impar. Luego, solicita al usuario que ingrese un número y muestra un mensaje que indique si es par o impar.\n",
    "\n",
    "3. Define una función llamada contador_vocales que tome una cadena como argumento y devuelva un diccionario que cuente cuántas veces aparece cada vocal (a, e, i, o, u) en la cadena.\n",
    "\n",
    "4. Crea una función llamada calculadora que permita al usuario realizar operaciones matemáticas básicas (suma, resta, multiplicación, división). La función debe tomar dos números y un operador como argumentos y devolver el resultado de la operación."
   ]
  }
 ],
 "metadata": {
  "kernelspec": {
   "display_name": "Python 3 (ipykernel)",
   "language": "python",
   "name": "python3"
  },
  "language_info": {
   "codemirror_mode": {
    "name": "ipython",
    "version": 3
   },
   "file_extension": ".py",
   "mimetype": "text/x-python",
   "name": "python",
   "nbconvert_exporter": "python",
   "pygments_lexer": "ipython3",
   "version": "3.10.11"
  }
 },
 "nbformat": 4,
 "nbformat_minor": 5
}
